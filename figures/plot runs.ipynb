{
 "cells": [
  {
   "cell_type": "code",
   "execution_count": null,
   "metadata": {},
   "outputs": [],
   "source": [
    "import os\n",
    "os.chdir('..')"
   ]
  },
  {
   "cell_type": "code",
   "execution_count": null,
   "metadata": {},
   "outputs": [],
   "source": [
    "model = \"sac\"\n",
    "root = os.path.join(os.getcwd(), f\"KUCodebase\\code\\runs\\{model}\")\n",
    "files = [os.path.join(path, name) for path, subdirs, files in os.walk(root) for name in files if (\"q1_env\" in path and \"events\" in name)]"
   ]
  }
 ],
 "metadata": {
  "kernelspec": {
   "display_name": "Python 3.7.12 ('cs285')",
   "language": "python",
   "name": "python3"
  },
  "language_info": {
   "name": "python",
   "version": "3.7.12"
  },
  "orig_nbformat": 4,
  "vscode": {
   "interpreter": {
    "hash": "bdd8b6657ef5c63c5f9f10de6453c748af4f3477e1cb836e77031ecb270cad99"
   }
  }
 },
 "nbformat": 4,
 "nbformat_minor": 2
}
